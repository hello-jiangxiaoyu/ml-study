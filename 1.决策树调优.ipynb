{
 "cells": [
  {
   "cell_type": "code",
   "execution_count": null,
   "id": "7ffd9c17-d737-478b-96f7-5f7d130b1a08",
   "metadata": {},
   "outputs": [],
   "source": [
    "from sklearn import tree\n",
    "from sklearn.datasets import load_wine\n",
    "from sklearn.model_selection import train_test_split\n",
    "import graphviz\n",
    "import matplotlib.pyplot as plt"
   ]
  },
  {
   "cell_type": "code",
   "execution_count": null,
   "id": "ae8e88b5-a77f-4dfa-adc0-fa4ef7052821",
   "metadata": {},
   "outputs": [],
   "source": [
    "wine = load_wine()\n",
    "xTrain, xTest, yTrain, yTest = train_test_split(wine.data, wine.target, test_size=0.2)"
   ]
  },
  {
   "cell_type": "code",
   "execution_count": null,
   "id": "754c2b6c-2b4e-4e3e-9ce5-11d7a2925804",
   "metadata": {},
   "outputs": [],
   "source": [
    "test = []\n",
    "maxTime = 10\n",
    "for i in range(maxTime):\n",
    "    dtc = tree.DecisionTreeClassifier(max_depth=3  # 决策树最大深度\n",
    "                                      ,splitter=\"random\"\n",
    "                                      ,min_samples_leaf=i+2  # 叶子节点最小样本数\n",
    "                                      ,min_samples_split=i+2   # 父节点最小样本数\n",
    "                                      ,criterion=\"entropy\", random_state=30)\n",
    "    dtc = dtc.fit(xTrain, yTrain)\n",
    "    score = dtc.score(xTest, yTest)\n",
    "    test.append(score)\n",
    "plt.plot(range(1, maxTime+1), test, color=\"red\", label=\"max_depth\")\n",
    "plt.legend()\n",
    "plt.show()"
   ]
  }
 ],
 "metadata": {
  "kernelspec": {
   "display_name": "Python 3 (ipykernel)",
   "language": "python",
   "name": "python3"
  },
  "language_info": {
   "codemirror_mode": {
    "name": "ipython",
    "version": 3
   },
   "file_extension": ".py",
   "mimetype": "text/x-python",
   "name": "python",
   "nbconvert_exporter": "python",
   "pygments_lexer": "ipython3",
   "version": "3.11.4"
  }
 },
 "nbformat": 4,
 "nbformat_minor": 5
}
