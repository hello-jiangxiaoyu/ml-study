{
 "cells": [
  {
   "cell_type": "code",
   "execution_count": null,
   "id": "9a0ec719",
   "metadata": {},
   "outputs": [],
   "source": [
    "!pip3 install -U scikit-learn\n",
    "!pip3 install pandas\n",
    "!pip3 install graphviz\n",
    "!pip3 install matplotlib"
   ]
  },
  {
   "cell_type": "code",
   "execution_count": null,
   "id": "4e241e01-9c49-4d3c-9509-3534ee0eec5b",
   "metadata": {},
   "outputs": [],
   "source": [
    "from sklearn import tree\n",
    "from sklearn.datasets import load_wine\n",
    "from sklearn.model_selection import train_test_split\n",
    "import pandas as pd\n",
    "import graphviz\n",
    "import matplotlib.pyplot as plt"
   ]
  },
  {
   "cell_type": "code",
   "execution_count": null,
   "id": "321a9a01-f693-44fd-a97a-54042bfe1ac8",
   "metadata": {},
   "outputs": [],
   "source": [
    "wine = load_wine()  # 加载内置测试集\n",
    "print(\"len(feature):{}, feature: {}\\n\".format(len(wine.feature_names), wine.feature_names))  # feature表述样本具有哪些特征\n",
    "\n",
    "print(\"target_name:{}, target:{}\".format(wine.target_names, wine.target))"
   ]
  },
  {
   "cell_type": "code",
   "execution_count": null,
   "id": "2d832f7b-33f8-494c-a3a9-cb59b432ec5e",
   "metadata": {},
   "outputs": [],
   "source": [
    "print(\"len(target):{}, len(data):{}\\n\".format(len(wine.target), len(wine.data)))  # target记录了每个data属于哪一类\n",
    "pd.concat([pd.DataFrame(wine.data), pd.DataFrame(wine.target)], axis=1)"
   ]
  },
  {
   "cell_type": "code",
   "execution_count": null,
   "id": "4dfcd654-d7d2-4bca-8ebe-c67c3e29d4a4",
   "metadata": {},
   "outputs": [],
   "source": [
    "# 将数据拆分为训练集和测试集\n",
    "xTrain, xTest, yTrain, yTest = train_test_split(wine.data, wine.target, test_size=0.3)\n",
    "print(xTrain.shape, wine.data.shape)"
   ]
  },
  {
   "cell_type": "code",
   "execution_count": null,
   "id": "47e7bc78-855b-47b4-9838-f5736be3760e",
   "metadata": {},
   "outputs": [],
   "source": [
    "# 训练模型并打分\n",
    "dtc = tree.DecisionTreeClassifier(criterion=\"entropy\")\n",
    "dtc = dtc.fit(xTrain, yTrain)  # 使用训练集训练模型\n",
    "score = dtc.score(xTest, yTest)  # 使用测试集给模型打分\n",
    "score"
   ]
  },
  {
   "cell_type": "code",
   "execution_count": null,
   "id": "dd030ce5-749b-4bf8-8f87-19531008f8d2",
   "metadata": {},
   "outputs": [],
   "source": [
    "# 生成决策树\n",
    "dot_data = tree.export_graphviz(dtc, feature_names=wine.feature_names, class_names=wine.target_names\n",
    "                                    , filled=True, rounded=True)\n",
    "graph = graphviz.Source(dot_data)\n",
    "graph"
   ]
  },
  {
   "cell_type": "code",
   "execution_count": null,
   "id": "b5e51148-7547-483e-b89b-8fec3d5ed204",
   "metadata": {},
   "outputs": [],
   "source": []
  }
 ],
 "metadata": {
  "kernelspec": {
   "display_name": "Python 3 (ipykernel)",
   "language": "python",
   "name": "python3"
  },
  "language_info": {
   "codemirror_mode": {
    "name": "ipython",
    "version": 3
   },
   "file_extension": ".py",
   "mimetype": "text/x-python",
   "name": "python",
   "nbconvert_exporter": "python",
   "pygments_lexer": "ipython3",
   "version": "3.11.4"
  }
 },
 "nbformat": 4,
 "nbformat_minor": 5
}
