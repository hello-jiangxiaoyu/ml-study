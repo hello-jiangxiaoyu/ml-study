{
 "cells": [
  {
   "cell_type": "code",
   "execution_count": null,
   "id": "822184a8-2c4a-4cf3-bdc4-834d6d26e82c",
   "metadata": {},
   "outputs": [],
   "source": [
    "from sklearn.preprocessing import MinMaxScaler, StandardScaler\n",
    "import pandas as pd\n",
    "data = [[-1,2], [-0.5,6], [0,10], [1,18]]  # 4行2列，2个特征\n",
    "pd.DataFrame(data)"
   ]
  },
  {
   "cell_type": "code",
   "execution_count": null,
   "id": "d0e7d0df-6bbd-4855-812d-676fdedc3cf8",
   "metadata": {},
   "outputs": [],
   "source": [
    "# 归一化（加/减某个值，除/乘以某个值）\n",
    "scaler = MinMaxScaler().fit(data)  # 生成min(x), max(x)\n",
    "result = scaler.transform(data)    # 导出\n",
    "result"
   ]
  },
  {
   "cell_type": "code",
   "execution_count": null,
   "id": "50f49129-c626-4529-94d8-e6333d4a80fe",
   "metadata": {},
   "outputs": [],
   "source": [
    "scaler = MinMaxScaler(feature_range=(5,10))  # 强行指定归一化范围\n",
    "result = scaler.fit_transform(data)  # 等同于执行fit加transform函数\n",
    "result"
   ]
  },
  {
   "cell_type": "code",
   "execution_count": null,
   "id": "e86f59da-7028-4de5-8bfe-59c6d4f56700",
   "metadata": {},
   "outputs": [],
   "source": [
    "# 获取原始数据\n",
    "scaler.inverse_transform(result)  # 返回归一化之前的原始数据"
   ]
  },
  {
   "cell_type": "code",
   "execution_count": null,
   "id": "7a91b031-09aa-4a62-8fc2-830096f1716c",
   "metadata": {},
   "outputs": [],
   "source": [
    "# 标准化（标准正态分布）\n",
    "scaler = StandardScaler()\n",
    "scaler.fit(data)\n",
    "print(\"标准化前：均值:{}, 方差:{}\".format(scaler.mean_, scaler.var_))  # 有几个特征，数组就有多少个元素\n",
    "\n",
    "x_std = scaler.transform(data)  # 导出结果\n",
    "print(\"标准化后：均值:{}, 方差:{}\".format(x_std.mean(), x_std.std()))  # 均值为0，方差为1的标准正态分布\n",
    "print(\"标准化后的数据：\", x_std)\n",
    "\n",
    "scaler.inverse_transform(x_std)"
   ]
  },
  {
   "cell_type": "code",
   "execution_count": null,
   "id": "c8dcef33-1417-472d-8371-5122962eb58e",
   "metadata": {},
   "outputs": [],
   "source": []
  }
 ],
 "metadata": {
  "kernelspec": {
   "display_name": "Python 3 (ipykernel)",
   "language": "python",
   "name": "python3"
  },
  "language_info": {
   "codemirror_mode": {
    "name": "ipython",
    "version": 3
   },
   "file_extension": ".py",
   "mimetype": "text/x-python",
   "name": "python",
   "nbconvert_exporter": "python",
   "pygments_lexer": "ipython3",
   "version": "3.11.4"
  }
 },
 "nbformat": 4,
 "nbformat_minor": 5
}
