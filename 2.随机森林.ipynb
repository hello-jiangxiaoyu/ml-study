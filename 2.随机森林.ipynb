{
 "cells": [
  {
   "cell_type": "code",
   "execution_count": null,
   "id": "b4772778-10e7-463b-b27e-3b4fb85aff69",
   "metadata": {},
   "outputs": [],
   "source": [
    "from sklearn import tree, ensemble\n",
    "from sklearn.datasets import load_wine\n",
    "from sklearn.model_selection import train_test_split, cross_val_score\n",
    "import graphviz\n",
    "import matplotlib.pyplot as plt\n",
    "wine = load_wine()  # 加载内置样本数据"
   ]
  },
  {
   "cell_type": "code",
   "execution_count": null,
   "id": "f5e0bd9f-e3a3-4bb8-90ee-afe7658b0007",
   "metadata": {},
   "outputs": [],
   "source": [
    "# 决策树和随机森林打分对比\n",
    "xTrain, xTest, yTrain, yTest = train_test_split(wine.data, wine.target, test_size=0.2)  # 随机划分训练集和测试集\n",
    "dtc = tree.DecisionTreeClassifier(random_state=0)\n",
    "rfc = ensemble.RandomForestClassifier(random_state=0, n_estimators=25)  # n_estimators为树的个数\n",
    "dtc = dtc.fit(xTrain, yTrain)\n",
    "rfc = rfc.fit(xTrain, yTrain)\n",
    "\n",
    "score_dtc = dtc.score(xTest, yTest)\n",
    "score_rfc = rfc.score(xTest, yTest)\n",
    "print(\"dTree: {}, forest: {}\".format(score_dtc, score_rfc))"
   ]
  },
  {
   "cell_type": "code",
   "execution_count": null,
   "id": "841b3dea-8ade-4730-a6d6-9b908f4137f7",
   "metadata": {},
   "outputs": [],
   "source": [
    "# 交叉验证\n",
    "rfc_cross = cross_val_score(rfc, wine.data, wine.target, cv=10)  # 样本数据分成10份，9分用于训练，1份用于测试，得到10组对比数据\n",
    "dtc_cross = cross_val_score(dtc, wine.data, wine.target, cv=10)  # 随机森林的分数一般大于或等于决策树\n",
    "plt.plot(range(1,11), rfc_cross, label=\"Random Forest\")\n",
    "plt.plot(range(1,11), dtc_cross, label=\"Decision Tree\")\n",
    "plt.legend()\n",
    "plt.show()"
   ]
  },
  {
   "cell_type": "code",
   "execution_count": null,
   "id": "6392485e-278f-451c-be17-dcaf01d7c7e3",
   "metadata": {},
   "outputs": [],
   "source": []
  }
 ],
 "metadata": {
  "kernelspec": {
   "display_name": "Python 3 (ipykernel)",
   "language": "python",
   "name": "python3"
  },
  "language_info": {
   "codemirror_mode": {
    "name": "ipython",
    "version": 3
   },
   "file_extension": ".py",
   "mimetype": "text/x-python",
   "name": "python",
   "nbconvert_exporter": "python",
   "pygments_lexer": "ipython3",
   "version": "3.11.4"
  }
 },
 "nbformat": 4,
 "nbformat_minor": 5
}
