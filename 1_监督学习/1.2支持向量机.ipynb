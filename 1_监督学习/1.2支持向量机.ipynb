{
 "cells": [
  {
   "cell_type": "code",
   "execution_count": 3,
   "metadata": {},
   "outputs": [],
   "source": [
    "'''\n",
    "支持向量机 (SVMs) 可用于以下监督学习算法: 分类, 回归 和 异常检测.\n",
    "\n",
    "优势:\n",
    "    在高维空间中非常高效.\n",
    "    即使在数据维度比样本数量大的情况下仍然有效.\n",
    "    在决策函数（称为支持向量）中使用训练集的子集,因此它也是高效利用内存的.\n",
    "    通用性: 不同的核函数 核函数 与特定的决策函数一一对应.常见的 kernel 已经提供,也可以指定定制的内核.\n",
    "缺点:\n",
    "    如果特征数量比样本数量大得多,在选择核函数时要避免过拟合, 而且正则化项是非常重要的.\n",
    "    支持向量机不直接提供概率估计,这些都是使用昂贵的五次交叉验算计算的\n",
    "'''\n",
    "\n",
    "from sklearn import svm\n"
   ]
  },
  {
   "cell_type": "code",
   "execution_count": 4,
   "metadata": {},
   "outputs": [
    {
     "data": {
      "text/plain": [
       "array([1])"
      ]
     },
     "execution_count": 4,
     "metadata": {},
     "output_type": "execute_result"
    }
   ],
   "source": [
    "X = [[0, 0], [1, 1]]\n",
    "y = [0, 1]\n",
    "clf = svm.SVC(gamma='scale')\n",
    "clf.fit(X, y)\n",
    "clf.predict([[2., 2.]])"
   ]
  }
 ],
 "metadata": {
  "kernelspec": {
   "display_name": "Python 3",
   "language": "python",
   "name": "python3"
  },
  "language_info": {
   "codemirror_mode": {
    "name": "ipython",
    "version": 3
   },
   "file_extension": ".py",
   "mimetype": "text/x-python",
   "name": "python",
   "nbconvert_exporter": "python",
   "pygments_lexer": "ipython3",
   "version": "3.11.4"
  },
  "orig_nbformat": 4
 },
 "nbformat": 4,
 "nbformat_minor": 2
}
